{
 "cells": [
  {
   "cell_type": "code",
   "execution_count": null,
   "id": "207580e8",
   "metadata": {
    "scrolled": true
   },
   "outputs": [],
   "source": [
    "import time\n",
    "import PySimpleGUI as sg\n",
    "from draw_scheme import *\n",
    "from neural_network_class import *\n",
    "from create_X_Y_train import *\n",
    "\n",
    "#create input raw package of elements\n",
    "layout=[\n",
    "    [\n",
    "        sg.Text(\"Architecture:\"),\n",
    "        sg.In(size=(50,1),enable_events=True,key='-INPUT-'),\n",
    "        sg.Button(\"submit\",key=\"-SUB-\"),\n",
    "        sg.Button(\"make one iteration\",key=\"-SHOW-\"),\n",
    "        sg.Button(\"train\",key=\"-TRAIN-\"),\n",
    "        sg.Button(\"Stop\",key=\"-STOP-\"),\n",
    "        \n",
    "    ],\n",
    "    [\n",
    "        sg.Image(key=\"-IMAGE-\",size=(500,500)),\n",
    "        sg.Text(size=(40,1),key=\"-TOUT-\"),     \n",
    "    ]\n",
    "]\n",
    "window=sg.Window(\"image_viewer\",layout,size=(800,600))\n",
    "\n",
    "while True:#event loop\n",
    "    try:\n",
    "        event,values=window.read(timeout=10)\n",
    "        if event==\"-SUB-\":\n",
    "            arch=list(map(int,values[\"-INPUT-\"].split()))\n",
    "            nn=model(arch)\n",
    "            draw_neural_network_scheme(arch,nn.weights)\n",
    "            window[\"-IMAGE-\"].update(filename=\"neural_network.png\")\n",
    "            k=0\n",
    "        if event==\"-SHOW-\":\n",
    "            k+=1\n",
    "            weights=nn.weights\n",
    "            nn.make_one_iteration(*create(),nn.cost)\n",
    "            draw_neural_network_scheme(arch,weights)\n",
    "            window[\"-IMAGE-\"].update(filename=\"neural_network.png\")\n",
    "            window[\"-TOUT-\"].update(\"iteration number{0}, cost is {1}\".format(k,nn.cost))\n",
    "        if event == \"-TRAIN-\":\n",
    "            while nn.stop!=True:\n",
    "                window.refresh()\n",
    "                if event==\"-STOP-\":\n",
    "                    break\n",
    "                k+=1\n",
    "                window.refresh()\n",
    "                weights=nn.weights\n",
    "                nn.make_one_iteration(*create(),nn.cost) \n",
    "                draw_neural_network_scheme(arch,weights)\n",
    "                window[\"-IMAGE-\"].update(filename=\"neural_network.png\")\n",
    "                window[\"-TOUT-\"].update(\"epoch number {0}, cost is {1}\".format(k,nn.cost))\n",
    "                event, values = window.read(timeout=10)\n",
    "    except:\n",
    "        window[\"-INPUT-\"].update(\"enter correct neural network architecure\")\n",
    "    if event==sg.WIN_CLOSED:\n",
    "        break\n",
    "window.close()"
   ]
  },
  {
   "cell_type": "code",
   "execution_count": null,
   "id": "b0256f7b",
   "metadata": {},
   "outputs": [],
   "source": []
  },
  {
   "cell_type": "code",
   "execution_count": null,
   "id": "40557cde",
   "metadata": {},
   "outputs": [],
   "source": []
  },
  {
   "cell_type": "code",
   "execution_count": null,
   "id": "5ee51a3d",
   "metadata": {},
   "outputs": [],
   "source": []
  },
  {
   "cell_type": "code",
   "execution_count": null,
   "id": "54090726",
   "metadata": {},
   "outputs": [],
   "source": []
  }
 ],
 "metadata": {
  "kernelspec": {
   "display_name": "Python 3 (ipykernel)",
   "language": "python",
   "name": "python3"
  },
  "language_info": {
   "codemirror_mode": {
    "name": "ipython",
    "version": 3
   },
   "file_extension": ".py",
   "mimetype": "text/x-python",
   "name": "python",
   "nbconvert_exporter": "python",
   "pygments_lexer": "ipython3",
   "version": "3.11.1"
  }
 },
 "nbformat": 4,
 "nbformat_minor": 5
}
